{
 "cells": [
  {
   "cell_type": "markdown",
   "metadata": {},
   "source": [
    "### Objectives:\n",
    "\n",
    "- To compute the relative frequency of two events occurring at the same time.\n",
    "- To compute the relative frequency of one event occurs given that another event has also occurred.\n",
    "- To be familiar with properties of the relative frequency."
   ]
  },
  {
   "cell_type": "markdown",
   "metadata": {},
   "source": [
    "The file “Lab2_Rainfall2021.xlsx”, which is extracted from The Hong Kong Observatory https://www.hko.gov.hk/en/wxinfo/pastwx/mws/mws.htm, stores the rainfall in Hong Kong in 2021. Each element in the column “Rainfall” in the file “Lab2_Rainfall2021.xlsx” indicates the rainfall on a day. A positive value indicates it rained on that day, while a 0 indicates it did not rain on that day. One may wonder if season information indicates whether a day is rainy or not. For this, the column “Seasons” stores the season labels.\n",
    "\n",
    "\n",
    "Download the file \"Lab2_Rainfall2021.xlsx\" from the course website to complete the lab. \n",
    "\n",
    "We recommend you to use the pandas data analysis package in python to do the homework. In particular, you should find the groupby and count functions provided by pandas useful. More information about the pandas data analysis package can be found from here:\n",
    "\n",
    "https://pandas.pydata.org/pandas-docs/stable/index.html \n",
    "\n",
    "However, you are free to do the question using any methods or functions that you like.\n",
    "\n",
    "After you have completed the notebook, export it as pdf for submission. Go to File, click Download as, click HTML (.html), then convert the html file to pdf file."
   ]
  },
  {
   "cell_type": "markdown",
   "metadata": {},
   "source": [
    "We will first load the datafile and look at the first few lines. Do not change the code below."
   ]
  },
  {
   "cell_type": "code",
   "execution_count": 1,
   "metadata": {
    "scrolled": true
   },
   "outputs": [
    {
     "data": {
      "text/html": [
       "<div>\n",
       "<style scoped>\n",
       "    .dataframe tbody tr th:only-of-type {\n",
       "        vertical-align: middle;\n",
       "    }\n",
       "\n",
       "    .dataframe tbody tr th {\n",
       "        vertical-align: top;\n",
       "    }\n",
       "\n",
       "    .dataframe thead th {\n",
       "        text-align: right;\n",
       "    }\n",
       "</style>\n",
       "<table border=\"1\" class=\"dataframe\">\n",
       "  <thead>\n",
       "    <tr style=\"text-align: right;\">\n",
       "      <th></th>\n",
       "      <th>Date</th>\n",
       "      <th>Season</th>\n",
       "      <th>Rainfall</th>\n",
       "    </tr>\n",
       "    <tr>\n",
       "      <th>Index</th>\n",
       "      <th></th>\n",
       "      <th></th>\n",
       "      <th></th>\n",
       "    </tr>\n",
       "  </thead>\n",
       "  <tbody>\n",
       "    <tr>\n",
       "      <th>1</th>\n",
       "      <td>2021-01-01</td>\n",
       "      <td>winter</td>\n",
       "      <td>0.0</td>\n",
       "    </tr>\n",
       "    <tr>\n",
       "      <th>2</th>\n",
       "      <td>2021-01-02</td>\n",
       "      <td>winter</td>\n",
       "      <td>0.0</td>\n",
       "    </tr>\n",
       "    <tr>\n",
       "      <th>3</th>\n",
       "      <td>2021-01-03</td>\n",
       "      <td>winter</td>\n",
       "      <td>0.0</td>\n",
       "    </tr>\n",
       "    <tr>\n",
       "      <th>4</th>\n",
       "      <td>2021-01-04</td>\n",
       "      <td>winter</td>\n",
       "      <td>0.0</td>\n",
       "    </tr>\n",
       "    <tr>\n",
       "      <th>5</th>\n",
       "      <td>2021-01-05</td>\n",
       "      <td>winter</td>\n",
       "      <td>0.0</td>\n",
       "    </tr>\n",
       "  </tbody>\n",
       "</table>\n",
       "</div>"
      ],
      "text/plain": [
       "            Date  Season  Rainfall\n",
       "Index                             \n",
       "1     2021-01-01  winter       0.0\n",
       "2     2021-01-02  winter       0.0\n",
       "3     2021-01-03  winter       0.0\n",
       "4     2021-01-04  winter       0.0\n",
       "5     2021-01-05  winter       0.0"
      ]
     },
     "execution_count": 1,
     "metadata": {},
     "output_type": "execute_result"
    }
   ],
   "source": [
    "# load pandas, a data analysis package\n",
    "import pandas as pd\n",
    "\n",
    "# read the data file and show the first few entries\n",
    "data = pd.read_excel('Lab2_Rainfall2021.xlsx',index_col='Index')\n",
    "data.head()"
   ]
  },
  {
   "cell_type": "markdown",
   "metadata": {},
   "source": [
    "From the data, let us find the relative frequency that a day is rainy, and the relative frequency of its complement (i.e. a day is not rainy). In other words, we will count the number of days whose rainfall is greater than 0 (or less than or equal to 0) and divide by the total number of days in the dataset."
   ]
  },
  {
   "cell_type": "code",
   "execution_count": 2,
   "metadata": {},
   "outputs": [
    {
     "name": "stdout",
     "output_type": "stream",
     "text": [
      "The number of the days whose rainfall is greater than 0 (or less than or equal to 0) is\n",
      "\n",
      "Rainy\n",
      "False    233\n",
      "True     132\n",
      "Name: Rainy, dtype: int64\n",
      "\n",
      "The total number of days is 365\n",
      "\n",
      "The relative frequency that a day is rainy, and the relative frequency of its complement are\n",
      "\n",
      "Rainy\n",
      "False    0.638356\n",
      "True     0.361644\n",
      "Name: Rainy, dtype: float64\n"
     ]
    }
   ],
   "source": [
    "# add a new column called \"Rainy\" which is True if the Rainfall value is positive and False otherwise\n",
    "data['Rainy'] = (data['Rainfall'] > 0)\n",
    "\n",
    "# count how many days in the year it rained and how many days it did not\n",
    "# we can use the groupby command to separates the data by whether it rained\n",
    "# ['Rainy'] selects only the 'Rainy' column\n",
    "# \"count()\" counts how many cells in the column have valid entries\n",
    "n_rain = data.groupby('Rainy')['Rainy'].count()\n",
    "\n",
    "# total number of days\n",
    "n = sum(n_rain)\n",
    "\n",
    "# relative frequence that a day is rainy\n",
    "p_rain = n_rain / n\n",
    "\n",
    "print(f'The number of the days whose rainfall is greater than 0 (or less than or equal to 0) is\\n')\n",
    "print(n_rain)\n",
    "\n",
    "print(f'\\nThe total number of days is {n}')\n",
    "\n",
    "print(f'\\nThe relative frequency that a day is rainy, and the relative frequency of its complement are\\n')\n",
    "print(p_rain)"
   ]
  },
  {
   "cell_type": "markdown",
   "metadata": {},
   "source": [
    "### Part a (7 points) : \n",
    "Find the relative frequencies that a day is a spring day, a summer day, a fall day and a winter day. In other words, count the number of days in each season and divide by the total number of days in the dataset."
   ]
  },
  {
   "cell_type": "code",
   "execution_count": 3,
   "metadata": {},
   "outputs": [
    {
     "name": "stdout",
     "output_type": "stream",
     "text": [
      "Season\n",
      "fall      0.249315\n",
      "spring    0.252055\n",
      "summer    0.252055\n",
      "winter    0.246575\n",
      "Name: Season, dtype: float64\n"
     ]
    }
   ],
   "source": [
    "# calculate the number of days in each season, and then \n",
    "# calculate the relative frequencies that a day is spring, summer, fall and winter\n",
    "\n",
    "P_A = data.groupby('Season')['Season'].count()/sum(data.groupby('Season')['Season'].count())\n",
    "print(P_A)\n",
    "# put your code below and print out the result after running your code\n",
    "# =====================================================================\n"
   ]
  },
  {
   "cell_type": "markdown",
   "metadata": {},
   "source": [
    "### Part b (7 points) :\n",
    "Find the relative frequencies that a day is a spring rainy day, a summer rainy day, a fall rainy day, and a winter rainy day."
   ]
  },
  {
   "cell_type": "code",
   "execution_count": 4,
   "metadata": {},
   "outputs": [
    {
     "name": "stdout",
     "output_type": "stream",
     "text": [
      "Season\n",
      "fall      0.082192\n",
      "spring    0.079452\n",
      "summer    0.167123\n",
      "winter    0.032877\n",
      "Name: Rainy, dtype: float64\n"
     ]
    }
   ],
   "source": [
    "# group by season and sum the boolean entries of \"Rainy\"\n",
    "P_A_AND_B =data.groupby('Season')['Rainy'].sum()/sum(data.groupby('Season')['Season'].count())\n",
    "print(P_A_AND_B)\n",
    "\n",
    "# put your code below and print out the result after running your code\n",
    "# =====================================================================\n"
   ]
  },
  {
   "cell_type": "markdown",
   "metadata": {},
   "source": [
    "### Part c (5 points) : \n",
    "\n",
    "Find the following values\n",
    "\n",
    "The relative frequency that a day is rainy given that the day is a spring day\n",
    "\n",
    "The relative frequency that a day is rainy given that the day is a summer day\n",
    "\n",
    "The relative frequency that a day is rainy given that the day is a fall day\n",
    "\n",
    "The relative frequency that a day is rainy given that the day is a winter day"
   ]
  },
  {
   "cell_type": "code",
   "execution_count": 6,
   "metadata": {},
   "outputs": [
    {
     "name": "stdout",
     "output_type": "stream",
     "text": [
      "Season\n",
      "fall      0.329670\n",
      "spring    0.315217\n",
      "summer    0.663043\n",
      "winter    0.133333\n",
      "dtype: float64\n"
     ]
    }
   ],
   "source": [
    "# put your code below and print out the result after running your code\n",
    "print(P_A_AND_B/P_A)\n",
    "# =====================================================================\n"
   ]
  }
 ],
 "metadata": {
  "kernelspec": {
   "display_name": "Python 3 (ipykernel)",
   "language": "python",
   "name": "python3"
  },
  "language_info": {
   "codemirror_mode": {
    "name": "ipython",
    "version": 3
   },
   "file_extension": ".py",
   "mimetype": "text/x-python",
   "name": "python",
   "nbconvert_exporter": "python",
   "pygments_lexer": "ipython3",
   "version": "3.11.2"
  }
 },
 "nbformat": 4,
 "nbformat_minor": 4
}
