{
 "cells": [
  {
   "cell_type": "markdown",
   "id": "0f85266c",
   "metadata": {},
   "source": [
    "# Introduction - Part 2"
   ]
  },
  {
   "cell_type": "markdown",
   "id": "9b539b5f",
   "metadata": {},
   "source": [
    "### **Include necessary library and Read excel file**"
   ]
  },
  {
   "cell_type": "code",
   "execution_count": 1,
   "id": "89c5f370",
   "metadata": {},
   "outputs": [
    {
     "data": {
      "text/html": [
       "<div>\n",
       "<style scoped>\n",
       "    .dataframe tbody tr th:only-of-type {\n",
       "        vertical-align: middle;\n",
       "    }\n",
       "\n",
       "    .dataframe tbody tr th {\n",
       "        vertical-align: top;\n",
       "    }\n",
       "\n",
       "    .dataframe thead th {\n",
       "        text-align: right;\n",
       "    }\n",
       "</style>\n",
       "<table border=\"1\" class=\"dataframe\">\n",
       "  <thead>\n",
       "    <tr style=\"text-align: right;\">\n",
       "      <th></th>\n",
       "      <th>Class</th>\n",
       "      <th>Price</th>\n",
       "    </tr>\n",
       "    <tr>\n",
       "      <th>Index</th>\n",
       "      <th></th>\n",
       "      <th></th>\n",
       "    </tr>\n",
       "  </thead>\n",
       "  <tbody>\n",
       "    <tr>\n",
       "      <th>12</th>\n",
       "      <td>fruit</td>\n",
       "      <td>5</td>\n",
       "    </tr>\n",
       "    <tr>\n",
       "      <th>13</th>\n",
       "      <td>vegetable</td>\n",
       "      <td>1</td>\n",
       "    </tr>\n",
       "    <tr>\n",
       "      <th>14</th>\n",
       "      <td>vegetable</td>\n",
       "      <td>5</td>\n",
       "    </tr>\n",
       "    <tr>\n",
       "      <th>15</th>\n",
       "      <td>vegetable</td>\n",
       "      <td>2</td>\n",
       "    </tr>\n",
       "    <tr>\n",
       "      <th>16</th>\n",
       "      <td>vegetable</td>\n",
       "      <td>4</td>\n",
       "    </tr>\n",
       "  </tbody>\n",
       "</table>\n",
       "</div>"
      ],
      "text/plain": [
       "           Class  Price\n",
       "Index                  \n",
       "12         fruit      5\n",
       "13     vegetable      1\n",
       "14     vegetable      5\n",
       "15     vegetable      2\n",
       "16     vegetable      4"
      ]
     },
     "execution_count": 1,
     "metadata": {},
     "output_type": "execute_result"
    }
   ],
   "source": [
    "import pandas as pd\n",
    "# read the data file and show the first few entries\n",
    "data = pd.read_excel('Sample_Part2.xlsx',index_col='Index')\n",
    "data.head()\n",
    "data.tail()\n"
   ]
  },
  {
   "cell_type": "code",
   "execution_count": 20,
   "id": "d9618293",
   "metadata": {},
   "outputs": [
    {
     "name": "stdout",
     "output_type": "stream",
     "text": [
      "           Class  Price\n",
      "Index                  \n",
      "1          fruit      5\n",
      "2          fruit      5\n",
      "3          fruit     10\n",
      "4          fruit     10\n",
      "5          fruit      3\n",
      "6      vegetable      1\n",
      "7      vegetable      1\n",
      "8      vegetable      5\n",
      "9      vegetable      2\n",
      "10     vegetable      4\n",
      "11         fruit      5\n",
      "12         fruit      5\n",
      "13     vegetable      1\n",
      "14     vegetable      5\n",
      "15     vegetable      2\n",
      "16     vegetable      4\n"
     ]
    }
   ],
   "source": [
    "print(data)"
   ]
  },
  {
   "cell_type": "markdown",
   "id": "ab6a46ae",
   "metadata": {},
   "source": [
    "### Ex.01 - Groupby and Count"
   ]
  },
  {
   "cell_type": "code",
   "execution_count": 13,
   "id": "1703758c",
   "metadata": {},
   "outputs": [
    {
     "name": "stdout",
     "output_type": "stream",
     "text": [
      "Class\n",
      "fruit        7\n",
      "vegetable    9\n",
      "Name: Price, dtype: int64\n",
      " \n",
      "Number of fruits =  7\n",
      " \n",
      "Total number of products 16\n"
     ]
    }
   ],
   "source": [
    "n_class = data.groupby('Class')['Price'].count() #combine class & price into datafram -> take number of class\n",
    "print(n_class)\n",
    "print(' ')\n",
    "\n",
    "\n",
    "print('Number of fruits = ', n_class['fruit'])\n",
    "print(' ')\n",
    "\n",
    "print('Total number of products', sum(n_class))"
   ]
  },
  {
   "cell_type": "markdown",
   "id": "824d5b07",
   "metadata": {},
   "source": [
    "### Ex.02 - Groupby and sum"
   ]
  },
  {
   "cell_type": "code",
   "execution_count": 4,
   "id": "c3dc961f",
   "metadata": {},
   "outputs": [
    {
     "name": "stdout",
     "output_type": "stream",
     "text": [
      "           Class  Price\n",
      "Index                  \n",
      "1          fruit      5\n",
      "2          fruit      5\n",
      "3          fruit     10\n",
      "4          fruit     10\n",
      "5          fruit      3\n",
      "6      vegetable      1\n",
      "7      vegetable      1\n",
      "8      vegetable      5\n",
      "9      vegetable      2\n",
      "10     vegetable      4\n",
      "11         fruit      5\n",
      "12         fruit      5\n",
      "13     vegetable      1\n",
      "14     vegetable      5\n",
      "15     vegetable      2\n",
      "16     vegetable      4\n",
      " \n",
      "Class\n",
      "fruit        43\n",
      "vegetable    25\n",
      "Name: Price, dtype: int64\n"
     ]
    }
   ],
   "source": [
    "print(data)\n",
    "print(' ')\n",
    "\n",
    "n_class = data.groupby('Class')['Price'].sum()\n",
    "print(n_class)\n"
   ]
  },
  {
   "cell_type": "markdown",
   "id": "8ab74217",
   "metadata": {},
   "source": [
    "### Ex.03 - Create a new column"
   ]
  },
  {
   "cell_type": "code",
   "execution_count": 5,
   "id": "7d97e439",
   "metadata": {},
   "outputs": [
    {
     "name": "stdout",
     "output_type": "stream",
     "text": [
      "           Class  Price  data_price\n",
      "Index                              \n",
      "1          fruit      5        True\n",
      "2          fruit      5        True\n",
      "3          fruit     10        True\n",
      "4          fruit     10        True\n",
      "5          fruit      3       False\n",
      "6      vegetable      1       False\n",
      "7      vegetable      1       False\n",
      "8      vegetable      5        True\n",
      "9      vegetable      2       False\n",
      "10     vegetable      4       False\n",
      "11         fruit      5        True\n",
      "12         fruit      5        True\n",
      "13     vegetable      1       False\n",
      "14     vegetable      5        True\n",
      "15     vegetable      2       False\n",
      "16     vegetable      4       False\n",
      " \n",
      "The sum of data_price =  8\n",
      " \n",
      "Class\n",
      "fruit        6\n",
      "vegetable    2\n",
      "Name: data_price, dtype: int64\n"
     ]
    }
   ],
   "source": [
    "data['data_price'] = data['Price'] > 4 #create new column\n",
    "print(data)\n",
    "print(' ')\n",
    "\n",
    "print('The sum of data_price = ', sum(data['data_price']))\n",
    "print(' ')\n",
    "\n",
    "n_fruit_4 = data.groupby('Class')['data_price'].sum()#number of fruit & vegetable with price > 4\n",
    "print(n_fruit_4)"
   ]
  }
 ],
 "metadata": {
  "kernelspec": {
   "display_name": "Python 3 (ipykernel)",
   "language": "python",
   "name": "python3"
  },
  "language_info": {
   "codemirror_mode": {
    "name": "ipython",
    "version": 3
   },
   "file_extension": ".py",
   "mimetype": "text/x-python",
   "name": "python",
   "nbconvert_exporter": "python",
   "pygments_lexer": "ipython3",
   "version": "3.11.2"
  }
 },
 "nbformat": 4,
 "nbformat_minor": 5
}
